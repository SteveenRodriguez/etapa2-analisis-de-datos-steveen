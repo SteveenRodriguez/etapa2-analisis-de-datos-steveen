{
 "cells": [
  {
   "cell_type": "markdown",
   "id": "c835fdeb",
   "metadata": {},
   "source": [
    "# Regresion Lineal "
   ]
  },
  {
   "cell_type": "markdown",
   "id": "a2e7009f",
   "metadata": {},
   "source": [
    "###### Importar las bibliotecas necesarias"
   ]
  },
  {
   "cell_type": "code",
   "execution_count": 2,
   "id": "c3051c6e",
   "metadata": {},
   "outputs": [],
   "source": [
    "import pandas as pd\n",
    "import numpy as np\n",
    "from sklearn.linear_model import LinearRegression\n",
    "import matplotlib.pyplot as plt"
   ]
  },
  {
   "cell_type": "code",
   "execution_count": 4,
   "id": "3da71f0f",
   "metadata": {},
   "outputs": [],
   "source": [
    "# Cargar los datos desde el archivo CSV\n",
    "data = pd.read_csv('C:\\\\datos\\\\fase 2\\\\regresion lineal\\\\data.csv')"
   ]
  },
  {
   "cell_type": "code",
   "execution_count": 5,
   "id": "f788062b",
   "metadata": {},
   "outputs": [],
   "source": [
    "# Dividir los datos en características (metros) y variable objetivo (precio)\n",
    "metros = data['metro'].values.reshape(-1, 1)\n",
    "precios = data['precio'].values"
   ]
  },
  {
   "cell_type": "code",
   "execution_count": 6,
   "id": "92a20cdd",
   "metadata": {},
   "outputs": [],
   "source": [
    "# Crear un modelo de regresión lineal\n",
    "modelo = LinearRegression()"
   ]
  },
  {
   "cell_type": "code",
   "execution_count": null,
   "id": "6581dfc2",
   "metadata": {},
   "outputs": [],
   "source": []
  }
 ],
 "metadata": {
  "kernelspec": {
   "display_name": "Python 3 (ipykernel)",
   "language": "python",
   "name": "python3"
  },
  "language_info": {
   "codemirror_mode": {
    "name": "ipython",
    "version": 3
   },
   "file_extension": ".py",
   "mimetype": "text/x-python",
   "name": "python",
   "nbconvert_exporter": "python",
   "pygments_lexer": "ipython3",
   "version": "3.11.4"
  }
 },
 "nbformat": 4,
 "nbformat_minor": 5
}
